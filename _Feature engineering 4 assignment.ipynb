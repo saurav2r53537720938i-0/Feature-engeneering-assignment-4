{
 "cells": [
  {
   "cell_type": "markdown",
   "id": "731b74ea-990b-49e6-bc81-5d43456645cd",
   "metadata": {},
   "source": [
    "Data encodiing refers to the process of converting data from one fromat to another,typically for transmission,storage,or security purpose in data science encoding is essentialfor sevral reason:\n",
    "1. Data reprsentation\n",
    "2. Feature engineering\n",
    "3. Data compression\n",
    "4. Data security"
   ]
  },
  {
   "cell_type": "markdown",
   "id": "0d9f6e15-5074-4dca-8450-f0975b84e3bc",
   "metadata": {},
   "source": [
    "Nominal encoding also know as one hot encoding is a technique used to convert categorical variable into a numerical reprsentation.In this encoding scheme,each category is represented by a binary vector,where each element corresponds to a category and is either 0 or 1,indicating the absence or prsence of the category repectively\n",
    ".FRUIT        COLOR\n",
    "APPLE         RED\n",
    "BANANA        YELLOW\n",
    "GRAPE         GREEN"
   ]
  },
  {
   "cell_type": "markdown",
   "id": "8cfd5e97-0aa4-4c66-9bda-6eb86d56e220",
   "metadata": {},
   "source": [
    "Nominal encoding also know as ordinal encoding is preffred over one hot encoding in situation where the categorical \n",
    "variable has a natural order or hiearchy in ordinal encoding each category is assigned a unique intger based on its \n",
    "order allowing the model to capture the ordinal relationship between catgeories"
   ]
  },
  {
   "cell_type": "markdown",
   "id": "facc04cd-f987-4635-ad9f-cf090d4c2df2",
   "metadata": {},
   "source": [
    "If you were to use nominal encoding to transform the two categorical columns each unique category within each column would be transformed into a binary vector where each category respond to a new binary column the number of new columns created depends on the number of unique categories with each"
   ]
  },
  {
   "cell_type": "markdown",
   "id": "c91eeb6a-6d39-49b1-9638-2a47559a62ac",
   "metadata": {},
   "source": [
    "To encode the categorical feature in the dataset for prdecting customer churn we can use the following encoding techniques:\n",
    "1. Label encoding for ordinal\n",
    "2. one-hot encoding for normal\n",
    "3."
   ]
  }
 ],
 "metadata": {
  "kernelspec": {
   "display_name": "Python 3 (ipykernel)",
   "language": "python",
   "name": "python3"
  },
  "language_info": {
   "codemirror_mode": {
    "name": "ipython",
    "version": 3
   },
   "file_extension": ".py",
   "mimetype": "text/x-python",
   "name": "python",
   "nbconvert_exporter": "python",
   "pygments_lexer": "ipython3",
   "version": "3.10.8"
  }
 },
 "nbformat": 4,
 "nbformat_minor": 5
}
